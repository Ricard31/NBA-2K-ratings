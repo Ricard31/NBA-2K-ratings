{
 "cells": [
  {
   "cell_type": "markdown",
   "metadata": {},
   "source": [
    "Load packages"
   ]
  },
  {
   "cell_type": "code",
   "execution_count": 157,
   "metadata": {},
   "outputs": [],
   "source": [
    "import numpy as np \n",
    "import pandas as pd \n",
    "from scipy import stats\n",
    "\n",
    "# pandas options\n",
    "pd.set_option('display.max_columns', 60)\n",
    "pd.set_option('display.float_format', lambda x: '%.2f' % x)\n",
    "\n",
    "import matplotlib.pyplot as plt\n",
    "import seaborn as sns\n",
    "\n",
    "sns.set() # use Seaborn styles\n",
    "sns.color_palette(\"Blues\")\n",
    "plt.style.use('fivethirtyeight')\n",
    "\n",
    "\n",
    "from sklearn import preprocessing, metrics\n",
    "from sklearn.model_selection import cross_val_score, train_test_split, KFold, cross_validate\n",
    "from sklearn.ensemble import RandomForestRegressor\n",
    "from sklearn.metrics import mean_squared_error\n",
    "from sklearn.neighbors import KNeighborsRegressor\n",
    "from sklearn.ensemble import RandomForestRegressor\n",
    "from sklearn.preprocessing import StandardScaler, MinMaxScaler\n",
    "\n",
    "from sklearn.svm import SVR\n",
    "\n",
    "from sklearn.linear_model import ElasticNet, Lasso,  BayesianRidge, LassoLarsIC, LinearRegression, Ridge\n",
    "\n",
    "\n",
    "# import xgboost as xgb\n",
    "\n",
    "import warnings; warnings.simplefilter('ignore')\n",
    "\n",
    "\n"
   ]
  },
  {
   "cell_type": "code",
   "execution_count": null,
   "metadata": {},
   "outputs": [],
   "source": []
  },
  {
   "cell_type": "code",
   "execution_count": 158,
   "metadata": {},
   "outputs": [],
   "source": [
    "\n",
    "# Data import\n",
    "df = pd.read_csv('../2019_ratings_stats.csv')"
   ]
  },
  {
   "cell_type": "code",
   "execution_count": 159,
   "metadata": {},
   "outputs": [
    {
     "data": {
      "text/html": [
       "<div>\n",
       "<style scoped>\n",
       "    .dataframe tbody tr th:only-of-type {\n",
       "        vertical-align: middle;\n",
       "    }\n",
       "\n",
       "    .dataframe tbody tr th {\n",
       "        vertical-align: top;\n",
       "    }\n",
       "\n",
       "    .dataframe thead th {\n",
       "        text-align: right;\n",
       "    }\n",
       "</style>\n",
       "<table border=\"1\" class=\"dataframe\">\n",
       "  <thead>\n",
       "    <tr style=\"text-align: right;\">\n",
       "      <th></th>\n",
       "      <th>name</th>\n",
       "      <th>team</th>\n",
       "      <th>position</th>\n",
       "      <th>height</th>\n",
       "      <th>brand</th>\n",
       "      <th>all_star</th>\n",
       "      <th>injured</th>\n",
       "      <th>two_way</th>\n",
       "      <th>rookie</th>\n",
       "      <th>rating</th>\n",
       "      <th>Pos</th>\n",
       "      <th>Age</th>\n",
       "      <th>Tm</th>\n",
       "      <th>G</th>\n",
       "      <th>GS</th>\n",
       "      <th>MPG</th>\n",
       "      <th>FG</th>\n",
       "      <th>FGA</th>\n",
       "      <th>FG.pct</th>\n",
       "      <th>3P</th>\n",
       "      <th>3PA</th>\n",
       "      <th>3P.pct</th>\n",
       "      <th>2P</th>\n",
       "      <th>2PA</th>\n",
       "      <th>2P.pct</th>\n",
       "      <th>eFG.pct</th>\n",
       "      <th>FT</th>\n",
       "      <th>FTA</th>\n",
       "      <th>FT.pct</th>\n",
       "      <th>ORB</th>\n",
       "      <th>DRB</th>\n",
       "      <th>TRB</th>\n",
       "      <th>AST</th>\n",
       "      <th>STL</th>\n",
       "      <th>BLK</th>\n",
       "      <th>TOV</th>\n",
       "      <th>PF</th>\n",
       "      <th>PTS</th>\n",
       "      <th>MP_Total</th>\n",
       "      <th>PER</th>\n",
       "      <th>TS.pct</th>\n",
       "      <th>3PAr</th>\n",
       "      <th>FTr</th>\n",
       "      <th>ORB.pct</th>\n",
       "      <th>DRB.pct</th>\n",
       "      <th>TRB.pct</th>\n",
       "      <th>AST.pct</th>\n",
       "      <th>STL.pct</th>\n",
       "      <th>BLK.pct</th>\n",
       "      <th>TOV.pct</th>\n",
       "      <th>USG.pct</th>\n",
       "      <th>OWS</th>\n",
       "      <th>DWS</th>\n",
       "      <th>WS</th>\n",
       "      <th>WS/48</th>\n",
       "      <th>OBPM</th>\n",
       "      <th>DBPM</th>\n",
       "      <th>BPM</th>\n",
       "      <th>VORP</th>\n",
       "    </tr>\n",
       "  </thead>\n",
       "  <tbody>\n",
       "    <tr>\n",
       "      <th>0</th>\n",
       "      <td>Kent Bazemore</td>\n",
       "      <td>Atlanta Hawks</td>\n",
       "      <td>SG\\n</td>\n",
       "      <td>6\"5'</td>\n",
       "      <td>Under Armour</td>\n",
       "      <td>0</td>\n",
       "      <td>0</td>\n",
       "      <td>0</td>\n",
       "      <td>0</td>\n",
       "      <td>76</td>\n",
       "      <td>SG</td>\n",
       "      <td>28</td>\n",
       "      <td>ATL</td>\n",
       "      <td>65</td>\n",
       "      <td>65</td>\n",
       "      <td>27.50</td>\n",
       "      <td>4.40</td>\n",
       "      <td>10.40</td>\n",
       "      <td>0.42</td>\n",
       "      <td>1.70</td>\n",
       "      <td>4.20</td>\n",
       "      <td>0.39</td>\n",
       "      <td>2.70</td>\n",
       "      <td>6.20</td>\n",
       "      <td>0.44</td>\n",
       "      <td>0.50</td>\n",
       "      <td>2.50</td>\n",
       "      <td>3.10</td>\n",
       "      <td>0.80</td>\n",
       "      <td>0.40</td>\n",
       "      <td>3.40</td>\n",
       "      <td>3.80</td>\n",
       "      <td>3.50</td>\n",
       "      <td>1.50</td>\n",
       "      <td>0.70</td>\n",
       "      <td>2.40</td>\n",
       "      <td>2.30</td>\n",
       "      <td>12.90</td>\n",
       "      <td>1789</td>\n",
       "      <td>14.50</td>\n",
       "      <td>0.55</td>\n",
       "      <td>0.41</td>\n",
       "      <td>0.30</td>\n",
       "      <td>1.60</td>\n",
       "      <td>13.90</td>\n",
       "      <td>7.70</td>\n",
       "      <td>20.10</td>\n",
       "      <td>2.70</td>\n",
       "      <td>2.20</td>\n",
       "      <td>17.00</td>\n",
       "      <td>22.50</td>\n",
       "      <td>0.20</td>\n",
       "      <td>2.00</td>\n",
       "      <td>2.20</td>\n",
       "      <td>0.06</td>\n",
       "      <td>-0.40</td>\n",
       "      <td>1.00</td>\n",
       "      <td>0.60</td>\n",
       "      <td>1.20</td>\n",
       "    </tr>\n",
       "    <tr>\n",
       "      <th>1</th>\n",
       "      <td>Dewayne Dedmon</td>\n",
       "      <td>Atlanta Hawks</td>\n",
       "      <td>C\\n</td>\n",
       "      <td>7\"0'</td>\n",
       "      <td>Jordan</td>\n",
       "      <td>0</td>\n",
       "      <td>0</td>\n",
       "      <td>0</td>\n",
       "      <td>0</td>\n",
       "      <td>77</td>\n",
       "      <td>C</td>\n",
       "      <td>28</td>\n",
       "      <td>ATL</td>\n",
       "      <td>62</td>\n",
       "      <td>46</td>\n",
       "      <td>24.90</td>\n",
       "      <td>4.00</td>\n",
       "      <td>7.70</td>\n",
       "      <td>0.52</td>\n",
       "      <td>0.80</td>\n",
       "      <td>2.30</td>\n",
       "      <td>0.35</td>\n",
       "      <td>3.20</td>\n",
       "      <td>5.40</td>\n",
       "      <td>0.59</td>\n",
       "      <td>0.58</td>\n",
       "      <td>1.10</td>\n",
       "      <td>1.40</td>\n",
       "      <td>0.78</td>\n",
       "      <td>1.60</td>\n",
       "      <td>6.30</td>\n",
       "      <td>7.90</td>\n",
       "      <td>1.50</td>\n",
       "      <td>0.60</td>\n",
       "      <td>0.80</td>\n",
       "      <td>1.40</td>\n",
       "      <td>2.60</td>\n",
       "      <td>10.00</td>\n",
       "      <td>1542</td>\n",
       "      <td>15.80</td>\n",
       "      <td>0.60</td>\n",
       "      <td>0.30</td>\n",
       "      <td>0.18</td>\n",
       "      <td>7.20</td>\n",
       "      <td>28.10</td>\n",
       "      <td>17.70</td>\n",
       "      <td>9.20</td>\n",
       "      <td>1.30</td>\n",
       "      <td>2.80</td>\n",
       "      <td>14.30</td>\n",
       "      <td>17.00</td>\n",
       "      <td>1.80</td>\n",
       "      <td>1.90</td>\n",
       "      <td>3.70</td>\n",
       "      <td>0.11</td>\n",
       "      <td>-0.40</td>\n",
       "      <td>0.50</td>\n",
       "      <td>0.10</td>\n",
       "      <td>0.80</td>\n",
       "    </tr>\n",
       "    <tr>\n",
       "      <th>2</th>\n",
       "      <td>John Collins</td>\n",
       "      <td>Atlanta Hawks</td>\n",
       "      <td>PF\\n</td>\n",
       "      <td>6\"10'</td>\n",
       "      <td>Adidas</td>\n",
       "      <td>0</td>\n",
       "      <td>0</td>\n",
       "      <td>0</td>\n",
       "      <td>0</td>\n",
       "      <td>84</td>\n",
       "      <td>PF</td>\n",
       "      <td>20</td>\n",
       "      <td>ATL</td>\n",
       "      <td>74</td>\n",
       "      <td>26</td>\n",
       "      <td>24.10</td>\n",
       "      <td>4.20</td>\n",
       "      <td>7.40</td>\n",
       "      <td>0.58</td>\n",
       "      <td>0.20</td>\n",
       "      <td>0.60</td>\n",
       "      <td>0.34</td>\n",
       "      <td>4.00</td>\n",
       "      <td>6.70</td>\n",
       "      <td>0.60</td>\n",
       "      <td>0.59</td>\n",
       "      <td>1.80</td>\n",
       "      <td>2.50</td>\n",
       "      <td>0.71</td>\n",
       "      <td>2.40</td>\n",
       "      <td>4.90</td>\n",
       "      <td>7.30</td>\n",
       "      <td>1.30</td>\n",
       "      <td>0.60</td>\n",
       "      <td>1.10</td>\n",
       "      <td>1.40</td>\n",
       "      <td>2.90</td>\n",
       "      <td>10.50</td>\n",
       "      <td>1785</td>\n",
       "      <td>18.30</td>\n",
       "      <td>0.62</td>\n",
       "      <td>0.09</td>\n",
       "      <td>0.34</td>\n",
       "      <td>11.00</td>\n",
       "      <td>22.80</td>\n",
       "      <td>16.90</td>\n",
       "      <td>8.90</td>\n",
       "      <td>1.30</td>\n",
       "      <td>3.80</td>\n",
       "      <td>14.30</td>\n",
       "      <td>17.90</td>\n",
       "      <td>3.40</td>\n",
       "      <td>2.00</td>\n",
       "      <td>5.40</td>\n",
       "      <td>0.14</td>\n",
       "      <td>-0.40</td>\n",
       "      <td>0.20</td>\n",
       "      <td>-0.20</td>\n",
       "      <td>0.80</td>\n",
       "    </tr>\n",
       "    <tr>\n",
       "      <th>3</th>\n",
       "      <td>Miles Plumlee</td>\n",
       "      <td>Atlanta Hawks</td>\n",
       "      <td>C\\n</td>\n",
       "      <td>6\"11'</td>\n",
       "      <td>Peak</td>\n",
       "      <td>0</td>\n",
       "      <td>0</td>\n",
       "      <td>0</td>\n",
       "      <td>0</td>\n",
       "      <td>71</td>\n",
       "      <td>C</td>\n",
       "      <td>29</td>\n",
       "      <td>ATL</td>\n",
       "      <td>55</td>\n",
       "      <td>35</td>\n",
       "      <td>16.70</td>\n",
       "      <td>1.90</td>\n",
       "      <td>3.30</td>\n",
       "      <td>0.58</td>\n",
       "      <td>0.00</td>\n",
       "      <td>0.00</td>\n",
       "      <td>nan</td>\n",
       "      <td>1.90</td>\n",
       "      <td>3.30</td>\n",
       "      <td>0.58</td>\n",
       "      <td>0.58</td>\n",
       "      <td>0.50</td>\n",
       "      <td>1.10</td>\n",
       "      <td>0.45</td>\n",
       "      <td>1.40</td>\n",
       "      <td>2.70</td>\n",
       "      <td>4.10</td>\n",
       "      <td>0.80</td>\n",
       "      <td>0.30</td>\n",
       "      <td>0.50</td>\n",
       "      <td>1.10</td>\n",
       "      <td>1.40</td>\n",
       "      <td>4.30</td>\n",
       "      <td>918</td>\n",
       "      <td>10.60</td>\n",
       "      <td>0.57</td>\n",
       "      <td>0.00</td>\n",
       "      <td>0.33</td>\n",
       "      <td>9.40</td>\n",
       "      <td>18.30</td>\n",
       "      <td>13.90</td>\n",
       "      <td>7.20</td>\n",
       "      <td>0.90</td>\n",
       "      <td>2.80</td>\n",
       "      <td>23.40</td>\n",
       "      <td>12.80</td>\n",
       "      <td>0.10</td>\n",
       "      <td>0.70</td>\n",
       "      <td>0.90</td>\n",
       "      <td>0.05</td>\n",
       "      <td>-3.70</td>\n",
       "      <td>-0.10</td>\n",
       "      <td>-3.80</td>\n",
       "      <td>-0.40</td>\n",
       "    </tr>\n",
       "    <tr>\n",
       "      <th>4</th>\n",
       "      <td>Justin Anderson</td>\n",
       "      <td>Atlanta Hawks</td>\n",
       "      <td>SF\\n</td>\n",
       "      <td>6\"6'</td>\n",
       "      <td>Nike</td>\n",
       "      <td>0</td>\n",
       "      <td>0</td>\n",
       "      <td>0</td>\n",
       "      <td>0</td>\n",
       "      <td>72</td>\n",
       "      <td>SF</td>\n",
       "      <td>24</td>\n",
       "      <td>PHI</td>\n",
       "      <td>38</td>\n",
       "      <td>0</td>\n",
       "      <td>13.70</td>\n",
       "      <td>2.30</td>\n",
       "      <td>5.30</td>\n",
       "      <td>0.43</td>\n",
       "      <td>0.90</td>\n",
       "      <td>2.70</td>\n",
       "      <td>0.33</td>\n",
       "      <td>1.40</td>\n",
       "      <td>2.60</td>\n",
       "      <td>0.54</td>\n",
       "      <td>0.52</td>\n",
       "      <td>0.70</td>\n",
       "      <td>1.00</td>\n",
       "      <td>0.74</td>\n",
       "      <td>0.70</td>\n",
       "      <td>1.80</td>\n",
       "      <td>2.40</td>\n",
       "      <td>0.70</td>\n",
       "      <td>0.40</td>\n",
       "      <td>0.20</td>\n",
       "      <td>0.40</td>\n",
       "      <td>1.40</td>\n",
       "      <td>6.20</td>\n",
       "      <td>519</td>\n",
       "      <td>13.00</td>\n",
       "      <td>0.54</td>\n",
       "      <td>0.51</td>\n",
       "      <td>0.19</td>\n",
       "      <td>5.40</td>\n",
       "      <td>13.60</td>\n",
       "      <td>9.60</td>\n",
       "      <td>7.10</td>\n",
       "      <td>1.40</td>\n",
       "      <td>1.10</td>\n",
       "      <td>6.80</td>\n",
       "      <td>19.30</td>\n",
       "      <td>0.60</td>\n",
       "      <td>0.70</td>\n",
       "      <td>1.20</td>\n",
       "      <td>0.12</td>\n",
       "      <td>-0.60</td>\n",
       "      <td>-0.30</td>\n",
       "      <td>-0.90</td>\n",
       "      <td>0.10</td>\n",
       "    </tr>\n",
       "  </tbody>\n",
       "</table>\n",
       "</div>"
      ],
      "text/plain": [
       "              name           team position height         brand  all_star  \\\n",
       "0    Kent Bazemore  Atlanta Hawks     SG\\n   6\"5'  Under Armour         0   \n",
       "1   Dewayne Dedmon  Atlanta Hawks      C\\n   7\"0'        Jordan         0   \n",
       "2     John Collins  Atlanta Hawks     PF\\n  6\"10'        Adidas         0   \n",
       "3    Miles Plumlee  Atlanta Hawks      C\\n  6\"11'          Peak         0   \n",
       "4  Justin Anderson  Atlanta Hawks     SF\\n   6\"6'          Nike         0   \n",
       "\n",
       "   injured  two_way  rookie  rating Pos  Age   Tm   G  GS   MPG   FG   FGA  \\\n",
       "0        0        0       0      76  SG   28  ATL  65  65 27.50 4.40 10.40   \n",
       "1        0        0       0      77   C   28  ATL  62  46 24.90 4.00  7.70   \n",
       "2        0        0       0      84  PF   20  ATL  74  26 24.10 4.20  7.40   \n",
       "3        0        0       0      71   C   29  ATL  55  35 16.70 1.90  3.30   \n",
       "4        0        0       0      72  SF   24  PHI  38   0 13.70 2.30  5.30   \n",
       "\n",
       "   FG.pct   3P  3PA  3P.pct   2P  2PA  2P.pct  eFG.pct   FT  FTA  FT.pct  ORB  \\\n",
       "0    0.42 1.70 4.20    0.39 2.70 6.20    0.44     0.50 2.50 3.10    0.80 0.40   \n",
       "1    0.52 0.80 2.30    0.35 3.20 5.40    0.59     0.58 1.10 1.40    0.78 1.60   \n",
       "2    0.58 0.20 0.60    0.34 4.00 6.70    0.60     0.59 1.80 2.50    0.71 2.40   \n",
       "3    0.58 0.00 0.00     nan 1.90 3.30    0.58     0.58 0.50 1.10    0.45 1.40   \n",
       "4    0.43 0.90 2.70    0.33 1.40 2.60    0.54     0.52 0.70 1.00    0.74 0.70   \n",
       "\n",
       "   DRB  TRB  AST  STL  BLK  TOV   PF   PTS  MP_Total   PER  TS.pct  3PAr  FTr  \\\n",
       "0 3.40 3.80 3.50 1.50 0.70 2.40 2.30 12.90      1789 14.50    0.55  0.41 0.30   \n",
       "1 6.30 7.90 1.50 0.60 0.80 1.40 2.60 10.00      1542 15.80    0.60  0.30 0.18   \n",
       "2 4.90 7.30 1.30 0.60 1.10 1.40 2.90 10.50      1785 18.30    0.62  0.09 0.34   \n",
       "3 2.70 4.10 0.80 0.30 0.50 1.10 1.40  4.30       918 10.60    0.57  0.00 0.33   \n",
       "4 1.80 2.40 0.70 0.40 0.20 0.40 1.40  6.20       519 13.00    0.54  0.51 0.19   \n",
       "\n",
       "   ORB.pct  DRB.pct  TRB.pct  AST.pct  STL.pct  BLK.pct  TOV.pct  USG.pct  \\\n",
       "0     1.60    13.90     7.70    20.10     2.70     2.20    17.00    22.50   \n",
       "1     7.20    28.10    17.70     9.20     1.30     2.80    14.30    17.00   \n",
       "2    11.00    22.80    16.90     8.90     1.30     3.80    14.30    17.90   \n",
       "3     9.40    18.30    13.90     7.20     0.90     2.80    23.40    12.80   \n",
       "4     5.40    13.60     9.60     7.10     1.40     1.10     6.80    19.30   \n",
       "\n",
       "   OWS  DWS   WS  WS/48  OBPM  DBPM   BPM  VORP  \n",
       "0 0.20 2.00 2.20   0.06 -0.40  1.00  0.60  1.20  \n",
       "1 1.80 1.90 3.70   0.11 -0.40  0.50  0.10  0.80  \n",
       "2 3.40 2.00 5.40   0.14 -0.40  0.20 -0.20  0.80  \n",
       "3 0.10 0.70 0.90   0.05 -3.70 -0.10 -3.80 -0.40  \n",
       "4 0.60 0.70 1.20   0.12 -0.60 -0.30 -0.90  0.10  "
      ]
     },
     "execution_count": 159,
     "metadata": {},
     "output_type": "execute_result"
    }
   ],
   "source": [
    "df.head(5)"
   ]
  },
  {
   "cell_type": "code",
   "execution_count": 160,
   "metadata": {},
   "outputs": [
    {
     "data": {
      "text/plain": [
       "(397, 59)"
      ]
     },
     "execution_count": 160,
     "metadata": {},
     "output_type": "execute_result"
    }
   ],
   "source": [
    "df.shape"
   ]
  },
  {
   "cell_type": "markdown",
   "metadata": {},
   "source": [
    "# Data cleaning\n",
    "\n",
    "----\n",
    "\n",
    "All steps that need to be performed in order to give the input data an adecuate format that allows us to do a first EDA. \n",
    "\n",
    "Examples of cleaning tasks: correct wrongly captured variables, setting NA values (those values that aren't NA but should be), ... "
   ]
  },
  {
   "cell_type": "markdown",
   "metadata": {},
   "source": [
    "### Clean position variable"
   ]
  },
  {
   "cell_type": "code",
   "execution_count": 161,
   "metadata": {},
   "outputs": [],
   "source": [
    "# clean position variable\n",
    "df.position = df.position.apply(lambda x: x.replace('\\n', ''))"
   ]
  },
  {
   "cell_type": "code",
   "execution_count": 162,
   "metadata": {},
   "outputs": [],
   "source": [
    "# drop b-ref position (interested in nba2k position) and rookie status (need to first fetch stats for rookies)\n",
    "df = df.drop(['Pos', 'rookie'], axis = 1)\n"
   ]
  },
  {
   "cell_type": "markdown",
   "metadata": {},
   "source": [
    "### Convert feet to cm"
   ]
  },
  {
   "cell_type": "code",
   "execution_count": 163,
   "metadata": {
    "scrolled": true
   },
   "outputs": [],
   "source": [
    "# convert feet to cm\n",
    "\n",
    "# h_inch += h_ft * 12\n",
    "# h_cm = round(h_inch * 2.54, 1)\n",
    "\n",
    "def convert_row(row):\n",
    "    empty_dict = {}\n",
    "    # extract feet and inch for each row\n",
    "    feet = int(row.height.split('\\\"')[0].replace('\\'', ''))\n",
    "    inches = int(row.height.split('\\\"')[1].replace('\\'', ''))\n",
    "    empty_dict['feet'] = feet\n",
    "    empty_dict['inches'] = inches\n",
    "    new_row = row.append(pd.Series(empty_dict))    \n",
    "    return new_row\n",
    "\n",
    "convert_row(df.iloc[0])\n",
    "\n",
    "# apply to whole df\n",
    "df = df.apply(lambda row: convert_row(row), axis = 1)\n",
    "\n",
    "\n",
    "### ADD conversor to cm"
   ]
  },
  {
   "cell_type": "code",
   "execution_count": null,
   "metadata": {},
   "outputs": [],
   "source": []
  },
  {
   "cell_type": "code",
   "execution_count": 164,
   "metadata": {},
   "outputs": [],
   "source": [
    "# drop some features\n",
    "df = df.drop(['name', 'position',  'team', 'height'], axis = 1)\n",
    "\n",
    "# fill some NA values in the pct columns --- this should go in the preprocessing part\n",
    "df = df.fillna(0)\n",
    "\n",
    "# convert to integer\n",
    "to_int=['G','GS','rating', 'Age', 'MP_Total']\n",
    "\n",
    "for var in to_int:\n",
    "      df[var] = df[var].apply(lambda x: int(x))\n",
    "  \n",
    "# convert to float\n",
    "  \n",
    "to_float = ['MPG',\t'FG',\t'FGA',\t'FG.pct',\t'3P',\t'3PA',\t'3P.pct',\t'2P',\n",
    "            '2PA',\t'2P.pct',\t'eFG.pct',\t'FT',\t'FTA',\t'FT.pct',\t'ORB',\t'DRB',\t'TRB',\n",
    "            'AST',\t'STL',\t'BLK',\t'TOV',\t'PF',\t'PTS']\n",
    "\n",
    "for var in to_float:\n",
    "      df[var] = df[var].apply(lambda x: float(x)) "
   ]
  },
  {
   "cell_type": "code",
   "execution_count": null,
   "metadata": {},
   "outputs": [],
   "source": []
  },
  {
   "cell_type": "markdown",
   "metadata": {
    "heading_collapsed": true
   },
   "source": [
    "## Replicar estado actual del proyecto (marzo 2019) (borrar una vez la estructura esté completada"
   ]
  },
  {
   "cell_type": "code",
   "execution_count": 165,
   "metadata": {
    "hidden": true
   },
   "outputs": [],
   "source": [
    "# get dummies\n",
    "df2 = pd.get_dummies(df)"
   ]
  },
  {
   "cell_type": "code",
   "execution_count": 166,
   "metadata": {
    "hidden": true
   },
   "outputs": [],
   "source": [
    "y = df2['rating']\n",
    "X = df2.drop('rating', axis = 1).copy() \n",
    "X_train, X_test, y_train, y_test = train_test_split(X, y, random_state=0)"
   ]
  },
  {
   "cell_type": "code",
   "execution_count": 167,
   "metadata": {
    "hidden": true
   },
   "outputs": [
    {
     "data": {
      "text/plain": [
       "((297, 96), (100, 96))"
      ]
     },
     "execution_count": 167,
     "metadata": {},
     "output_type": "execute_result"
    }
   ],
   "source": [
    "X_train.shape, X_test.shape"
   ]
  },
  {
   "cell_type": "code",
   "execution_count": 168,
   "metadata": {
    "hidden": true
   },
   "outputs": [
    {
     "name": "stderr",
     "output_type": "stream",
     "text": [
      "[Parallel(n_jobs=1)]: Using backend SequentialBackend with 1 concurrent workers.\n"
     ]
    },
    {
     "name": "stdout",
     "output_type": "stream",
     "text": [
      "Cross-validation scores:\n",
      "[0.50464194 0.60083565 0.62646351 0.78539159 0.70220883 0.70954336\n",
      " 0.74216029 0.77341297 0.76157342 0.68909757]\n",
      "Number of cv iterations:  10\n",
      "Mean metric: 0.69\n"
     ]
    },
    {
     "name": "stderr",
     "output_type": "stream",
     "text": [
      "[Parallel(n_jobs=1)]: Done  10 out of  10 | elapsed:    5.5s finished\n"
     ]
    }
   ],
   "source": [
    "# model definition\n",
    "rf = RandomForestRegressor(random_state = 0)\n",
    "\n",
    "kfold = KFold(n_splits = 10)\n",
    "\n",
    "scores = cross_val_score(rf, X, y, cv=kfold, verbose = 1, \n",
    "                         scoring = 'r2')\n",
    "#                          scoring='neg_mean_absolute_error')\n",
    "\n",
    "print(\"Cross-validation scores:\\n{}\".format(scores))\n",
    "print(\"Number of cv iterations: \", len(scores))\n",
    "print(\"Mean metric: {:.2f}\".format(scores.mean()))"
   ]
  },
  {
   "cell_type": "markdown",
   "metadata": {
    "hidden": true
   },
   "source": [
    "Se obtiene un R^2 de 0.69. Veamos hasta dónde podemos mejorar este resultado"
   ]
  },
  {
   "cell_type": "markdown",
   "metadata": {},
   "source": [
    "## Sandbox"
   ]
  },
  {
   "cell_type": "code",
   "execution_count": 169,
   "metadata": {},
   "outputs": [
    {
     "data": {
      "text/plain": [
       "Index(['all_star', 'injured', 'two_way', 'rating', 'Age', 'G', 'GS', 'MPG',\n",
       "       'FG', 'FGA', 'FG.pct', '3P', '3PA', '3P.pct', '2P', '2PA', '2P.pct',\n",
       "       'eFG.pct', 'FT', 'FTA', 'FT.pct', 'ORB', 'DRB', 'TRB', 'AST', 'STL',\n",
       "       'BLK', 'TOV', 'PF', 'PTS', 'MP_Total', 'PER', 'TS.pct', '3PAr', 'FTr',\n",
       "       'ORB.pct', 'DRB.pct', 'TRB.pct', 'AST.pct', 'STL.pct', 'BLK.pct',\n",
       "       'TOV.pct', 'USG.pct', 'OWS', 'DWS', 'WS', 'WS/48', 'OBPM', 'DBPM',\n",
       "       'BPM', 'VORP', 'feet', 'inches', 'brand_Adidas', 'brand_Anta',\n",
       "       'brand_BBB', 'brand_Fila', 'brand_Jordan', 'brand_K8IROS',\n",
       "       'brand_Li-Ning', 'brand_New Balance', 'brand_Nike', 'brand_Peak',\n",
       "       'brand_Puma', 'brand_Under Armour', 'Tm_ATL', 'Tm_BOS', 'Tm_BRK',\n",
       "       'Tm_CHI', 'Tm_CHO', 'Tm_CLE', 'Tm_DAL', 'Tm_DEN', 'Tm_DET', 'Tm_GSW',\n",
       "       'Tm_HOU', 'Tm_IND', 'Tm_LAC', 'Tm_LAL', 'Tm_MEM', 'Tm_MIA', 'Tm_MIL',\n",
       "       'Tm_MIN', 'Tm_NOP', 'Tm_NYK', 'Tm_OKC', 'Tm_ORL', 'Tm_PHI', 'Tm_PHO',\n",
       "       'Tm_POR', 'Tm_SAC', 'Tm_SAS', 'Tm_TOR', 'Tm_TOT', 'Tm_UTA'],\n",
       "      dtype='object')"
      ]
     },
     "execution_count": 169,
     "metadata": {},
     "output_type": "execute_result"
    }
   ],
   "source": [
    "df = pd.get_dummies(df)\n",
    "df.drop(labels=['brand_Q4', 'Tm_WAS'], axis=1, inplace=True) # drop one for each dummy variable to avoid collinearity\n",
    "df.columns"
   ]
  },
  {
   "cell_type": "code",
   "execution_count": 170,
   "metadata": {},
   "outputs": [],
   "source": [
    "# fill some NA values in the pct columns --- this should go in the preprocessing part\n",
    "df = df.fillna(0)"
   ]
  },
  {
   "cell_type": "code",
   "execution_count": 171,
   "metadata": {},
   "outputs": [
    {
     "data": {
      "text/plain": [
       "LinearRegression(copy_X=True, fit_intercept=True, n_jobs=None, normalize=False)"
      ]
     },
     "execution_count": 171,
     "metadata": {},
     "output_type": "execute_result"
    }
   ],
   "source": [
    "from sklearn.linear_model import LinearRegression\n",
    "\n",
    "data = df.copy()\n",
    "target = data.pop('rating')\n",
    "\n",
    "lr = LinearRegression(fit_intercept=True)\n",
    "lr.fit(data, target)"
   ]
  },
  {
   "cell_type": "code",
   "execution_count": 172,
   "metadata": {},
   "outputs": [
    {
     "name": "stdout",
     "output_type": "stream",
     "text": [
      "0.8387332735008957\n",
      "2.303881280924088\n"
     ]
    }
   ],
   "source": [
    "from sklearn.metrics import mean_squared_error\n",
    "\n",
    "# R^2\n",
    "print(lr.score(data, target)) \n",
    "\n",
    "predictions = lr.predict(data)\n",
    "mse = mean_squared_error(target, predictions)\n",
    "rmse = np.sqrt(mse)\n",
    "print(rmse)"
   ]
  },
  {
   "cell_type": "markdown",
   "metadata": {},
   "source": [
    "### Train/test"
   ]
  },
  {
   "cell_type": "code",
   "execution_count": 173,
   "metadata": {},
   "outputs": [],
   "source": [
    "from sklearn.model_selection import train_test_split\n",
    "\n",
    "X_train, X_test, y_train, y_test = train_test_split(data, target, shuffle=True,\n",
    "                                                    test_size=0.4, random_state=31)"
   ]
  },
  {
   "cell_type": "code",
   "execution_count": 174,
   "metadata": {},
   "outputs": [
    {
     "data": {
      "text/plain": [
       "LinearRegression(copy_X=True, fit_intercept=True, n_jobs=None, normalize=False)"
      ]
     },
     "execution_count": 174,
     "metadata": {},
     "output_type": "execute_result"
    }
   ],
   "source": [
    "lr_split = LinearRegression(fit_intercept=True)\n",
    "lr_split.fit(X_train, y_train)"
   ]
  },
  {
   "cell_type": "code",
   "execution_count": 175,
   "metadata": {},
   "outputs": [],
   "source": [
    "def calc_ISE(X_train, y_train, model):\n",
    "    '''returns the in-sample R^2 and RMSE; assumes model already fit.'''\n",
    "    predictions = model.predict(X_train)\n",
    "    mse = mean_squared_error(y_train, predictions)\n",
    "    rmse = np.sqrt(mse)\n",
    "    return model.score(X_train, y_train), rmse\n",
    "    \n",
    "def calc_OSE(X_test, y_test, model):\n",
    "    '''returns the out-of-sample R^2 and RMSE; assumes model already fit.'''\n",
    "    predictions = model.predict(X_test)\n",
    "    mse = mean_squared_error(y_test, predictions)\n",
    "    rmse = np.sqrt(mse)\n",
    "    return model.score(X_test, y_test), rmse"
   ]
  },
  {
   "cell_type": "code",
   "execution_count": 176,
   "metadata": {},
   "outputs": [
    {
     "name": "stdout",
     "output_type": "stream",
     "text": [
      "R^2 train : 0.8833360831084579\n",
      "R^2 val   : 0.37302243464596874\n",
      "RMSE train: 2.034931706667082\n",
      "RMSE val  : 4.217511573641228\n"
     ]
    }
   ],
   "source": [
    "is_r2, ise = calc_ISE(X_train, y_train, lr_split)\n",
    "os_r2, ose = calc_OSE(X_test, y_test, lr_split)\n",
    "\n",
    "# show dataset sizes\n",
    "data_list = (('R^2 train', is_r2), ('R^2 val', os_r2), \n",
    "             ('RMSE train', ise), ('RMSE val', ose))\n",
    "for item in data_list:\n",
    "    print('{:10}: {}'.format(item[0], item[1]))"
   ]
  },
  {
   "cell_type": "code",
   "execution_count": 177,
   "metadata": {},
   "outputs": [],
   "source": [
    "def calc_train_error(X_train, y_train, model):\n",
    "    '''returns in-sample error for already fit model.'''\n",
    "    predictions = model.predict(X_train)\n",
    "    mse = mean_squared_error(y_train, predictions)\n",
    "    rmse = np.sqrt(mse)\n",
    "    return rmse\n",
    "    \n",
    "def calc_validation_error(X_test, y_test, model):\n",
    "    '''returns out-of-sample error for already fit model.'''\n",
    "    predictions = model.predict(X_test)\n",
    "    mse = mean_squared_error(y_test, predictions)\n",
    "    rmse = np.sqrt(mse)\n",
    "    return rmse\n",
    "    \n",
    "def calc_metrics(X_train, y_train, X_test, y_test, model):\n",
    "    '''fits model and returns the RMSE for in-sample error and out-of-sample error'''\n",
    "    model.fit(X_train, y_train)\n",
    "    train_error = calc_train_error(X_train, y_train, model)\n",
    "    validation_error = calc_validation_error(X_test, y_test, model)\n",
    "    return train_error, validation_error"
   ]
  },
  {
   "cell_type": "code",
   "execution_count": 178,
   "metadata": {},
   "outputs": [
    {
     "data": {
      "text/plain": [
       "(2.034931706667082, 4.217511573641228)"
      ]
     },
     "execution_count": 178,
     "metadata": {},
     "output_type": "execute_result"
    }
   ],
   "source": [
    "calc_metrics(X_train, y_train, X_test, y_test, lr)"
   ]
  },
  {
   "cell_type": "code",
   "execution_count": null,
   "metadata": {},
   "outputs": [],
   "source": []
  },
  {
   "cell_type": "code",
   "execution_count": 179,
   "metadata": {},
   "outputs": [
    {
     "name": "stdout",
     "output_type": "stream",
     "text": [
      "All errors are RMSE\n",
      "----------------------------------------------------------------------------\n",
      "alpha:   0.001 | train error: 4.162 | test error: 16.917\n",
      "alpha:    0.01 | train error: 4.271 | test error: 16.004\n",
      "alpha:     0.1 | train error:  4.43 | test error: 14.49\n",
      "alpha:       1 | train error: 4.818 | test error: 11.426\n",
      "alpha:      10 | train error:  5.79 | test error: 8.891\n"
     ]
    }
   ],
   "source": [
    "alphas = [0.001, 0.01, 0.1, 1, 10]\n",
    "print('All errors are RMSE')\n",
    "print('-'*76)\n",
    "for alpha in alphas:\n",
    "    # instantiate and fit model\n",
    "    ridge = Ridge(alpha=alpha, fit_intercept=True, random_state=99)\n",
    "    ridge.fit(X_train, y_train)\n",
    "    # calculate errors\n",
    "    new_train_error = mean_squared_error(y_train, ridge.predict(X_train))\n",
    "#     new_validation_error = mean_squared_error(y_validation, ridge.predict(X_validation))\n",
    "    new_test_error = mean_squared_error(y_test, ridge.predict(X_test))\n",
    "    # print errors as report\n",
    "    print('alpha: {:7} | train error: {:5} | test error: {}'.\n",
    "          format(alpha,\n",
    "                 round(new_train_error,3),\n",
    "#                  round(new_validation_error,3),\n",
    "                 round(new_test_error,3)))"
   ]
  },
  {
   "cell_type": "code",
   "execution_count": 180,
   "metadata": {},
   "outputs": [],
   "source": [
    "alphas = [1e-4, 1e-3, 1e-2, 1e-1, 1, 1e1]\n",
    "\n",
    "val_errors = []\n",
    "for alpha in alphas:\n",
    "    lasso = Ridge(alpha=alpha, fit_intercept=True, random_state=77)\n",
    "    errors = np.sum(-cross_val_score(lasso, \n",
    "                                     data, \n",
    "                                     y=target, \n",
    "                                     scoring='neg_mean_squared_error', \n",
    "                                     cv=10, \n",
    "                                     n_jobs=-1))\n",
    "    val_errors.append(np.sqrt(errors))"
   ]
  },
  {
   "cell_type": "code",
   "execution_count": 181,
   "metadata": {},
   "outputs": [
    {
     "name": "stdout",
     "output_type": "stream",
     "text": [
      "[13.511141624863031, 13.609615070524706, 13.154090988122542, 11.732885427320296, 11.250290801948829, 10.407423898230045]\n"
     ]
    }
   ],
   "source": [
    "print(val_errors)"
   ]
  },
  {
   "cell_type": "code",
   "execution_count": null,
   "metadata": {},
   "outputs": [],
   "source": []
  },
  {
   "cell_type": "code",
   "execution_count": 195,
   "metadata": {
    "scrolled": false
   },
   "outputs": [
    {
     "name": "stdout",
     "output_type": "stream",
     "text": [
      "[('LR', LinearRegression(copy_X=True, fit_intercept=True, n_jobs=None, normalize=False)), ('rf', RandomForestRegressor(bootstrap=True, ccp_alpha=0.0, criterion='mse',\n",
      "                      max_depth=None, max_features='auto', max_leaf_nodes=None,\n",
      "                      max_samples=None, min_impurity_decrease=0.0,\n",
      "                      min_impurity_split=None, min_samples_leaf=1,\n",
      "                      min_samples_split=2, min_weight_fraction_leaf=0.0,\n",
      "                      n_estimators=100, n_jobs=None, oob_score=False,\n",
      "                      random_state=None, verbose=0, warm_start=False)), ('Ridge', Ridge(alpha=1.0, copy_X=True, fit_intercept=True, max_iter=None,\n",
      "      normalize=False, random_state=None, solver='auto', tol=0.001))]\n"
     ]
    }
   ],
   "source": [
    "X = data\n",
    "Y = target\n",
    "# prepare configuration for cross validation test harness\n",
    "seed = 7\n",
    "# prepare models\n",
    "models = []\n",
    "models.append(('LR', LinearRegression()))\n",
    "models.append(('rf', RandomForestRegressor()))\n",
    "models.append(('Ridge', Ridge()))\n",
    "\n",
    "\n",
    "def model_comparison(models):\n",
    "    # evaluate each model in turn\n",
    "    results = []\n",
    "    names = []\n",
    "    scoring = 'r2'\n",
    "    for name, model in models:\n",
    "        kfold = model_selection.KFold(n_splits=10, random_state=seed)\n",
    "        cv_results = model_selection.cross_val_score(model, X, Y, cv=kfold, scoring=scoring)\n",
    "        results.append(cv_results)\n",
    "        names.append(name)\n",
    "        msg = \"%s: %f (%f)\" % (name, cv_results.mean(), cv_results.std())\n",
    "        print(msg)\n",
    "    # boxplot algorithm comparison\n",
    "    fig = plt.figure()\n",
    "    fig.suptitle('Algorithm Comparison')\n",
    "    ax = fig.add_subplot(111)\n",
    "    plt.boxplot(results)\n",
    "    ax.set_xticklabels(names)\n",
    "    plt.show()"
   ]
  },
  {
   "cell_type": "code",
   "execution_count": null,
   "metadata": {},
   "outputs": [],
   "source": []
  },
  {
   "cell_type": "code",
   "execution_count": 189,
   "metadata": {},
   "outputs": [
    {
     "ename": "NameError",
     "evalue": "name 'sklearn' is not defined",
     "output_type": "error",
     "traceback": [
      "\u001b[0;31m---------------------------------------------------------------------------\u001b[0m",
      "\u001b[0;31mNameError\u001b[0m                                 Traceback (most recent call last)",
      "\u001b[0;32m<ipython-input-189-821a98fe6346>\u001b[0m in \u001b[0;36m<module>\u001b[0;34m\u001b[0m\n\u001b[0;32m----> 1\u001b[0;31m \u001b[0msklearn\u001b[0m\u001b[0;34m.\u001b[0m\u001b[0mmetrics\u001b[0m\u001b[0;34m.\u001b[0m\u001b[0mSCORERS\u001b[0m\u001b[0;34m.\u001b[0m\u001b[0mkeys\u001b[0m\u001b[0;34m(\u001b[0m\u001b[0;34m)\u001b[0m\u001b[0;34m\u001b[0m\u001b[0;34m\u001b[0m\u001b[0m\n\u001b[0m",
      "\u001b[0;31mNameError\u001b[0m: name 'sklearn' is not defined"
     ]
    }
   ],
   "source": [
    "sklearn.metrics.SCORERS.keys()"
   ]
  },
  {
   "cell_type": "code",
   "execution_count": null,
   "metadata": {},
   "outputs": [],
   "source": []
  },
  {
   "cell_type": "code",
   "execution_count": null,
   "metadata": {},
   "outputs": [],
   "source": []
  },
  {
   "cell_type": "code",
   "execution_count": null,
   "metadata": {},
   "outputs": [],
   "source": []
  },
  {
   "cell_type": "markdown",
   "metadata": {},
   "source": [
    "# Data preprocessing"
   ]
  },
  {
   "cell_type": "code",
   "execution_count": 183,
   "metadata": {
    "collapsed": true
   },
   "outputs": [
    {
     "data": {
      "text/plain": [
       "all_star      1.00\n",
       "injured       1.00\n",
       "two_way       1.00\n",
       "rating       31.00\n",
       "Age          22.00\n",
       "G            81.00\n",
       "GS           82.00\n",
       "MPG          35.90\n",
       "FG           10.50\n",
       "FGA          21.10\n",
       "FG.pct        1.00\n",
       "3P            4.20\n",
       "3PA          10.00\n",
       "3P.pct        1.00\n",
       "2P            9.70\n",
       "2PA          17.30\n",
       "2P.pct        1.00\n",
       "eFG.pct       1.50\n",
       "FT            8.70\n",
       "FTA          10.10\n",
       "FT.pct        1.00\n",
       "ORB           5.10\n",
       "DRB          10.90\n",
       "TRB          16.00\n",
       "AST          10.30\n",
       "STL           2.40\n",
       "BLK           2.60\n",
       "TOV           5.00\n",
       "PF            3.80\n",
       "PTS          30.40\n",
       "MP_Total   3025.00\n",
       "PER         162.30\n",
       "TS.pct        1.50\n",
       "3PAr          1.00\n",
       "FTr           0.67\n",
       "ORB.pct      17.90\n",
       "DRB.pct     100.00\n",
       "TRB.pct      55.90\n",
       "AST.pct      49.80\n",
       "STL.pct      12.50\n",
       "BLK.pct       8.20\n",
       "TOV.pct      45.00\n",
       "USG.pct      45.00\n",
       "OWS          13.60\n",
       "DWS           5.70\n",
       "WS           16.30\n",
       "WS/48         3.61\n",
       "OBPM        221.10\n",
       "DBPM         54.10\n",
       "BPM         275.30\n",
       "VORP          9.50\n",
       "feet          2.00\n",
       "inches       11.00\n",
       "dtype: float64"
      ]
     },
     "execution_count": 183,
     "metadata": {},
     "output_type": "execute_result"
    }
   ],
   "source": [
    "# Check variability in numeric variables\n",
    "# df_numeric = df.drop(['Tm', 'brand'], axis=1)\n",
    "df_numeric.max() - df_numeric.min()"
   ]
  },
  {
   "cell_type": "code",
   "execution_count": 197,
   "metadata": {},
   "outputs": [
    {
     "data": {
      "text/plain": [
       "array([[-0.27546462, -0.05025189, -0.25365954, ..., -0.17654697,\n",
       "        -0.2647279 , -0.19815907],\n",
       "       [-0.27546462, -0.05025189, -0.25365954, ..., -0.17654697,\n",
       "        -0.2647279 , -0.19815907],\n",
       "       [-0.27546462, -0.05025189, -0.25365954, ..., -0.17654697,\n",
       "        -0.2647279 , -0.19815907],\n",
       "       ...,\n",
       "       [-0.27546462, -0.05025189, -0.25365954, ..., -0.17654697,\n",
       "        -0.2647279 , -0.19815907],\n",
       "       [-0.27546462, -0.05025189, -0.25365954, ..., -0.17654697,\n",
       "        -0.2647279 , -0.19815907],\n",
       "       [-0.27546462, -0.05025189, -0.25365954, ..., -0.17654697,\n",
       "        -0.2647279 , -0.19815907]])"
      ]
     },
     "execution_count": 197,
     "metadata": {},
     "output_type": "execute_result"
    }
   ],
   "source": [
    "scaler = StandardScaler()\n",
    "scaler.fit(df)\n",
    "df_scaled = scaler.transform(df)\n",
    "df_scaled\n",
    "\n"
   ]
  },
  {
   "cell_type": "code",
   "execution_count": null,
   "metadata": {},
   "outputs": [],
   "source": []
  },
  {
   "cell_type": "markdown",
   "metadata": {},
   "source": [
    "# Análisis\n",
    "\n",
    "-----\n",
    "\n",
    "\n",
    "Outline:\n",
    "\n",
    "Data spliting, cross validation strategy definition"
   ]
  },
  {
   "cell_type": "code",
   "execution_count": 201,
   "metadata": {},
   "outputs": [
    {
     "name": "stdout",
     "output_type": "stream",
     "text": [
      "rf: 0.679330 (0.089527)\n",
      "Ridge: 0.639582 (0.144457)\n"
     ]
    },
    {
     "data": {
      "image/png": "[encoded data removed]",
      "text/plain": [
       "<Figure size 432x288 with 1 Axes>"
      ]
     },
     "metadata": {},
     "output_type": "display_data"
    }
   ],
   "source": [
    "scaler = StandardScaler()\n",
    "# scaler.fit(X_train)\n",
    "# X_train = scaler.transform(X_train)\n",
    "# X_test = scaler.transform(X_test)\n",
    "\n",
    "\n",
    "scaler.fit(X_train)\n",
    "data = scaler.transform(data)\n",
    "\n",
    "X = data\n",
    "Y = target\n",
    "# prepare configuration for cross validation test harness\n",
    "seed = 7\n",
    "# prepare models\n",
    "models = []\n",
    "# models.append(('LR', LinearRegression()))\n",
    "models.append(('rf', RandomForestRegressor()))\n",
    "models.append(('Ridge', Ridge()))\n",
    "\n",
    "model_comparison(models)\n",
    "\n",
    "\n",
    "\n",
    "## hacer escalado correctamente en train-test"
   ]
  },
  {
   "cell_type": "markdown",
   "metadata": {},
   "source": [
    "## Data split"
   ]
  },
  {
   "cell_type": "code",
   "execution_count": null,
   "metadata": {},
   "outputs": [],
   "source": []
  },
  {
   "cell_type": "code",
   "execution_count": null,
   "metadata": {},
   "outputs": [],
   "source": []
  },
  {
   "cell_type": "code",
   "execution_count": null,
   "metadata": {},
   "outputs": [],
   "source": []
  },
  {
   "cell_type": "code",
   "execution_count": null,
   "metadata": {},
   "outputs": [],
   "source": []
  },
  {
   "cell_type": "code",
   "execution_count": null,
   "metadata": {},
   "outputs": [],
   "source": []
  },
  {
   "cell_type": "code",
   "execution_count": null,
   "metadata": {},
   "outputs": [],
   "source": []
  },
  {
   "cell_type": "code",
   "execution_count": null,
   "metadata": {},
   "outputs": [],
   "source": []
  },
  {
   "cell_type": "code",
   "execution_count": null,
   "metadata": {},
   "outputs": [],
   "source": []
  },
  {
   "cell_type": "code",
   "execution_count": null,
   "metadata": {},
   "outputs": [],
   "source": []
  },
  {
   "cell_type": "code",
   "execution_count": null,
   "metadata": {},
   "outputs": [],
   "source": []
  },
  {
   "cell_type": "markdown",
   "metadata": {},
   "source": [
    "## Random forest"
   ]
  },
  {
   "cell_type": "code",
   "execution_count": 77,
   "metadata": {},
   "outputs": [],
   "source": [
    "df3 = df.drop(['brand', 'Tm'], axis = 1)"
   ]
  },
  {
   "cell_type": "code",
   "execution_count": 78,
   "metadata": {},
   "outputs": [],
   "source": [
    "y = df3['rating']\n",
    "X = df3.drop('rating', axis = 1).copy() \n",
    "X_train, X_test, y_train, y_test = train_test_split(X, y, random_state=0)"
   ]
  },
  {
   "cell_type": "code",
   "execution_count": 79,
   "metadata": {},
   "outputs": [
    {
     "data": {
      "text/plain": [
       "((297, 52), (100, 52))"
      ]
     },
     "execution_count": 79,
     "metadata": {},
     "output_type": "execute_result"
    }
   ],
   "source": [
    "X_train.shape, X_test.shape"
   ]
  },
  {
   "cell_type": "code",
   "execution_count": 80,
   "metadata": {},
   "outputs": [
    {
     "name": "stderr",
     "output_type": "stream",
     "text": [
      "[Parallel(n_jobs=1)]: Using backend SequentialBackend with 1 concurrent workers.\n"
     ]
    },
    {
     "name": "stdout",
     "output_type": "stream",
     "text": [
      "Cross-validation scores:\n",
      "[0.48821572 0.60392407 0.61514606 0.78808174 0.70031898 0.70769463\n",
      " 0.72275612 0.76709157 0.76820091 0.68089487]\n",
      "Number of cv iterations:  10\n",
      "Mean metric: 0.68\n"
     ]
    },
    {
     "name": "stderr",
     "output_type": "stream",
     "text": [
      "[Parallel(n_jobs=1)]: Done  10 out of  10 | elapsed:    4.7s finished\n"
     ]
    }
   ],
   "source": [
    "# model definition\n",
    "rf = RandomForestRegressor(random_state = 0)\n",
    "\n",
    "kfold = KFold(n_splits = 10)\n",
    "\n",
    "scores = cross_val_score(rf, X, y, cv=kfold, verbose = 1, \n",
    "                         scoring = 'r2')\n",
    "#                          scoring='neg_mean_absolute_error')\n",
    "\n",
    "print(\"Cross-validation scores:\\n{}\".format(scores))\n",
    "print(\"Number of cv iterations: \", len(scores))\n",
    "print(\"Mean metric: {:.2f}\".format(scores.mean()))"
   ]
  },
  {
   "cell_type": "code",
   "execution_count": 94,
   "metadata": {},
   "outputs": [],
   "source": [
    "def calc_train_error(X_train, y_train, model):\n",
    "    '''returns in-sample error for already fit model.'''\n",
    "    predictions = model.predict(X_train)\n",
    "    mse = mean_squared_error(y_train, predictions)\n",
    "    rmse = np.sqrt(mse)\n",
    "    return rmse\n",
    "    \n",
    "def calc_validation_error(X_test, y_test, model):\n",
    "    '''returns out-of-sample error for already fit model.'''\n",
    "    predictions = model.predict(X_test)\n",
    "    mse = mean_squared_error(y_test, predictions)\n",
    "    rmse = np.sqrt(mse)\n",
    "    return rmse\n",
    "    \n",
    "def calc_metrics(X_train, y_train, X_test, y_test, model):\n",
    "    '''fits model and returns the RMSE for in-sample error and out-of-sample error'''\n",
    "    model.fit(X_train, y_train)\n",
    "    train_error = calc_train_error(X_train, y_train, model)\n",
    "    validation_error = calc_validation_error(X_test, y_test, model)\n",
    "    return train_error, validation_error"
   ]
  },
  {
   "cell_type": "code",
   "execution_count": 93,
   "metadata": {},
   "outputs": [
    {
     "name": "stderr",
     "output_type": "stream",
     "text": [
      "[Parallel(n_jobs=1)]: Using backend SequentialBackend with 1 concurrent workers.\n"
     ]
    },
    {
     "name": "stdout",
     "output_type": "stream",
     "text": [
      "Cross-validation scores:\n",
      "[-0.00216432 -0.001247   -0.00145926 -0.00170081 -0.00139641 -0.0020932\n",
      " -0.00159435 -0.00121992 -0.00108997 -0.00201042]\n",
      "Number of cv iterations:  10\n",
      "Mean metric: -0.00\n"
     ]
    },
    {
     "name": "stderr",
     "output_type": "stream",
     "text": [
      "[Parallel(n_jobs=1)]: Done  10 out of  10 | elapsed:    4.4s finished\n"
     ]
    }
   ],
   "source": [
    "cv(rf)"
   ]
  },
  {
   "cell_type": "code",
   "execution_count": 55,
   "metadata": {},
   "outputs": [
    {
     "name": "stdout",
     "output_type": "stream",
     "text": [
      "Validation rmse: 3.192383122371123\n"
     ]
    }
   ],
   "source": [
    "rf_model = RandomForestRegressor(n_jobs=-1)\n",
    "rf_model.fit(X_train, y_train)\n",
    "\n",
    "\n",
    "rf_pred =  rf_model.predict(X_test)\n",
    "print('Validation rmse:', np.sqrt(mean_squared_error(y_test, rf_pred)))"
   ]
  },
  {
   "cell_type": "markdown",
   "metadata": {},
   "source": [
    "## Linear model"
   ]
  },
  {
   "cell_type": "code",
   "execution_count": 62,
   "metadata": {},
   "outputs": [
    {
     "name": "stdout",
     "output_type": "stream",
     "text": [
      "Validation rmse: 3.522100911551761\n"
     ]
    }
   ],
   "source": [
    "lr_scaler = MinMaxScaler()\n",
    "lr_scaler.fit(X_train)\n",
    "X_train = lr_scaler.transform(X_train)\n",
    "X_test = lr_scaler.transform(X_test)\n",
    "\n",
    "lr_model = LinearRegression(n_jobs=-1)\n",
    "lr_model.fit(X_train, y_train)\n",
    "\n",
    "\n",
    "lr_pred =  lr_model.predict(X_test)\n",
    "print('Validation rmse:', np.sqrt(mean_squared_error(y_test, lr_pred)))\n"
   ]
  },
  {
   "cell_type": "markdown",
   "metadata": {},
   "source": [
    "## SVM"
   ]
  },
  {
   "cell_type": "code",
   "execution_count": 57,
   "metadata": {},
   "outputs": [],
   "source": [
    "svr_rbf = SVR(kernel='rbf', C=100, gamma=0.1, epsilon=.1)\n",
    "svr_lin = SVR(kernel='linear', C=100, gamma='auto')\n",
    "svr_poly = SVR(kernel='poly', C=100, gamma='auto', degree=3, epsilon=.1,\n",
    "               coef0=1)"
   ]
  },
  {
   "cell_type": "code",
   "execution_count": 61,
   "metadata": {},
   "outputs": [
    {
     "name": "stdout",
     "output_type": "stream",
     "text": [
      "Validation rmse: 3.0632340906512683\n"
     ]
    }
   ],
   "source": [
    "svr_rbf.fit(X_train, y_train)\n",
    "svr_rbf_pred =  svr_rbf.predict(X_test)\n",
    "print('Validation rmse:', np.sqrt(mean_squared_error(y_test, svr_rbf_pred)))"
   ]
  },
  {
   "cell_type": "code",
   "execution_count": null,
   "metadata": {},
   "outputs": [],
   "source": []
  },
  {
   "cell_type": "code",
   "execution_count": null,
   "metadata": {},
   "outputs": [],
   "source": []
  },
  {
   "cell_type": "code",
   "execution_count": null,
   "metadata": {},
   "outputs": [],
   "source": []
  },
  {
   "cell_type": "code",
   "execution_count": null,
   "metadata": {},
   "outputs": [],
   "source": []
  }
 ],
 "metadata": {
  "kernelspec": {
   "display_name": "Python 3",
   "language": "python",
   "name": "python3"
  },
  "language_info": {
   "codemirror_mode": {
    "name": "ipython",
    "version": 3
   },
   "file_extension": ".py",
   "mimetype": "text/x-python",
   "name": "python",
   "nbconvert_exporter": "python",
   "pygments_lexer": "ipython3",
   "version": "3.7.6"
  },
  "toc": {
   "base_numbering": 1,
   "nav_menu": {},
   "number_sections": true,
   "sideBar": true,
   "skip_h1_title": false,
   "title_cell": "Table of Contents",
   "title_sidebar": "Contents",
   "toc_cell": false,
   "toc_position": {},
   "toc_section_display": true,
   "toc_window_display": false
  }
 },
 "nbformat": 4,
 "nbformat_minor": 4
}
